{
 "cells": [
  {
   "cell_type": "code",
   "execution_count": null,
   "metadata": {},
   "outputs": [],
   "source": [
    "# -*- coding: utf-8 -*-\n",
    "\"\"\"\n",
    "\n",
    "@author: Snowball6\n",
    "\"\"\"\n",
    "test_file = 'data/train.txt'\n",
    "test_file2 = 'data/test.txt'\n",
    "test_file3 = 'data/result_later.txt'\n",
    "\n",
    "def get_dic(test_file): \n",
    "    with open(test_file,'r',encoding='utf-8',) as f:\n",
    "        try:\n",
    "            file_content = f.read().split()\n",
    "        finally:\n",
    "            f.close()\n",
    "    chars = list(set(file_content))\n",
    "    return chars\n",
    "\n",
    "dic = get_dic(test_file)           \n",
    "def readfile(test_file2):\n",
    "    max_length = 5 \n",
    "    \n",
    "    h = open(test_file3,'w',encoding='utf-8',) \n",
    "    with open(test_file2,'r',encoding='utf-8',) as f:\n",
    "        lines = f.readlines()\n",
    "\n",
    "    for line in lines:\n",
    "        my_stack = []\n",
    "        len_hang = len(line)\n",
    "        while len_hang>0 :\n",
    "            tryWord = line[-max_length:]\n",
    "            while tryWord not in dic:\n",
    "                if len(tryWord)==1:\n",
    "                    break\n",
    "                tryWord=tryWord[1:]\n",
    "            my_stack.append(tryWord)\n",
    "            line = line[0:len(line)-len(tryWord)]\n",
    "            len_hang = len(line)\n",
    "        \n",
    "        while len(my_stack):\n",
    "            t = my_stack.pop()\n",
    "            if t == '\\n' :\n",
    "                h.write('\\n')\n",
    "            else:\n",
    "                h.write(t + \"  \")\n",
    "    \n",
    "    h.close()\n",
    "        \n",
    "readfile(test_file2)"
   ]
  },
  {
   "cell_type": "code",
   "execution_count": null,
   "metadata": {},
   "outputs": [],
   "source": []
  }
 ],
 "metadata": {
  "kernelspec": {
   "display_name": "Python 3",
   "language": "python",
   "name": "python3"
  },
  "language_info": {
   "codemirror_mode": {
    "name": "ipython",
    "version": 3
   },
   "file_extension": ".py",
   "mimetype": "text/x-python",
   "name": "python",
   "nbconvert_exporter": "python",
   "pygments_lexer": "ipython3",
   "version": "3.8.5"
  }
 },
 "nbformat": 4,
 "nbformat_minor": 4
}
